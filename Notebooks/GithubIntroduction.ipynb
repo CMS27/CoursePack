{
 "cells": [
  {
   "cell_type": "markdown",
   "metadata": {},
   "source": [
    "# A Very Quick Introduction to Git/Github for Julia Users\n",
    "\n",
    "Julia's package system and Github are very closely intertwined:\n",
    "\n",
    "- Julia's package management system (METADATA) is a Github repository\n",
    "- The packages are hosted as Github repositories\n",
    "- Julia packages are normally referred to with the ending “.jl”\n",
    "- Repositories register to become part of the central package management by sending a pull request to METADATA.jl\n",
    "- The packages can be found / investigated at Github.com\n",
    "- Julia's error messages are hyperlinks to the page in Github\n",
    "\n",
    "Because of this, it's very useful for everyone using Julia to know a little bit about Git/Github."
   ]
  },
  {
   "cell_type": "markdown",
   "metadata": {},
   "source": [
    "## Git Basics\n",
    "\n",
    "- Git is a common Version Control System (VCS)\n",
    "- A project is a **repository** (repos)\n",
    "- After one makes changes to a project, **commit** the changes\n",
    "- Changes are **pulled** to the main repository hosted online\n",
    "- To download the code, you **clone** the repository\n",
    "- Instead of editing the main repository, one edits a **branch**\n",
    "- To get the changes of the main branch in yours, you **fetch**\n",
    "- One asks the owner of the repository to add their changes via a **pull request**\n",
    "- Stable versions are cut to **releases**\n",
    "- The major online server for git repositories is Github\n",
    "- Github is a free service\n",
    "- Anyone can get a Github account\n",
    "- The code is hosted online, free for everyone to view\n",
    "- Users can open **Issues** to ask for features and give bug reports to developers\n",
    "- Many projects are brought together into **organizations** (JuliaMath, JuliaDiffEq, JuliaStats, etc.) \n",
    "\n",
    "An example Github repository for a Julia package is is DifferentialEquations.jl: https://github.com/JuliaDiffEq/DifferentialEquations.jl"
   ]
  }
 ],
 "metadata": {
  "kernelspec": {
   "display_name": "Julia 0.5.0-rc4",
   "language": "julia",
   "name": "julia-0.5"
  },
  "language_info": {
   "file_extension": ".jl",
   "mimetype": "application/julia",
   "name": "julia",
   "version": "0.5.0"
  }
 },
 "nbformat": 4,
 "nbformat_minor": 0
}
