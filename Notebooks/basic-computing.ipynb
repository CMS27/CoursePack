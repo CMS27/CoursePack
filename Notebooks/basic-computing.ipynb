{
 "cells": [
  {
   "cell_type": "markdown",
   "metadata": {
    "slideshow": {
     "slide_type": "slide"
    }
   },
   "source": [
    "\n",
    "# Computing Basics\n",
    "\n",
    "* It is important that we understand some basics about computers.\n",
    "* Even though software (and computers) always get more and more sophisticated, there is still a considerable margin for \"human error\". This doesn't mean necessarily that there is something wrong, but certain ways of doing things may have severe performance implications.\n",
    "* Whatever else happens, *you* write the code, and one way of writing code is different from another.\n",
    "\n",
    "<div class=\"center\" style=\"width: auto; margin-left: auto; margin-right: auto;\"> ![](figs/picnic.jpeg) </div>\n",
    "\n",
    "* In this session, we will look at some very basic computer structure, and see some common pitfalls in numerical analysis. \n",
    "* We will take advantage to introduce the julia computing language.\n",
    "\t1. Step Number 1: [install julia](http://julialang.org/downloads/)!\n",
    "\t1. Step Number 2: Why Julia?"
   ]
  },
  {
   "cell_type": "markdown",
   "metadata": {
    "slideshow": {
     "slide_type": "subslide"
    }
   },
   "source": [
    "## Julia? Why Julia?\n",
    "\n",
    "* The *best* software doesn't exist. All of the following statements depend on:\n",
    "\t1. The problem at hand. \n",
    "\t\t* You are fine with Stata if you need to run a probit.\n",
    "\t\t* Languages have different comparative advantages with regards to different tasks.\n",
    "\t1. Preferences of the analyst. Some people just *love* their software.\n",
    "* That said, there are some general themes we should keep in mind when choosing a software.\n",
    "* [Stephen Johnson at MIT has a good pitch.](https://github.com/stevengj/julia-mit)"
   ]
  },
  {
   "cell_type": "markdown",
   "metadata": {
    "slideshow": {
     "slide_type": "subslide"
    }
   },
   "source": [
    "## High versus Low Level Languages\n",
    "\n",
    "* High-level languages for technical computing: Matlab, Python, R, ...\n",
    "\t* you get going immediately\n",
    "\t* very important for exploratory coding or data analysis\n",
    "\t* You don't want to worry about type declarations and compilers at the exploratory stage\n",
    "* High-level languages are slow.\n",
    "\t* Traditional Solutions to this: Passing the high-speed threshold.\n",
    "\t* Using `Rcpp` or `Cython` etc is a bit like [Stargate](https://en.wikipedia.org/wiki/Stargate_SG-1). You loose control the moment you pass the barrier to `C++` for a little bit. (Even though those are great solutions.) If the `C++` part of your code becomes large, testing this code becomes increasingly difficult.\n",
    "\t* You end up spending your time coding `C++`. But that has it's own drawbacks."
   ]
  },
  {
   "cell_type": "markdown",
   "metadata": {
    "slideshow": {
     "slide_type": "slide"
    }
   },
   "source": [
    "## Julia is Fast\n",
    "\n",
    "* Julia is [fast](http://julialang.org/benchmarks/).\n",
    "\t* But julia is also a high-level dynamic language. How come? \n",
    "\t* The JIT compiler.\n",
    "\t* The [LLVM project](https://en.wikipedia.org/wiki/LLVM).\n",
    "* Julia is open source (and it's for free)\n",
    "\t* It's for free. Did I say that it's for free?\n",
    "\t* You will never again worry about licenses. Want to run 1000 instances of julia? Do it.\n",
    "\t* The entire standard library of julia is written in julia (and not in `C`, e.g., as is the case in R, matlab or python). It's easy to look and understand at how things work.\n",
    "* Julia is a very modern language, combining the best features of many other languages."
   ]
  },
  {
   "cell_type": "markdown",
   "metadata": {
    "slideshow": {
     "slide_type": "subslide"
    }
   },
   "source": [
    "## Why not julia?\n",
    "\n",
    "* Julia is still in version `0.5.0`. There may be language changes in future releases.\n",
    "* There are way fewer packages for certain tasks than for, say, R.\n",
    "* Relatively few people know it. Your supervisor almost surely doesn't know it.\n",
    "\n"
   ]
  },
  {
   "cell_type": "markdown",
   "metadata": {
    "slideshow": {
     "slide_type": "slide"
    }
   },
   "source": [
    "## Economists and Their Software\n",
    "\n",
    "* [@jesus-computing], in [*A Comparison of Programming Languages in Economics*](http://economics.sas.upenn.edu/~jesusfv/comparison_languages.pdf), compare some widely used languages on a close to [identical piece of code](https://github.com/jesusfv/Comparison-Programming-Languages-Economics).\n",
    "* It can be quite contentious to talk about Software to Economists.\n",
    "\t* Religious War. \n",
    "\t* Look at the [comments on this blog post regarding the paper](http://marginalrevolution.com/marginalrevolution/2014/07/a-comparison-of-programming-languages-in-economics.html).\n",
    "\t* There *are* switching costs from one language to another.\n",
    "\t* Network effects (Seniors handing down their software to juniors etc)\n",
    "* Takeaway from that paper: \n",
    "\t* There are some very good alternatives to `fortran`\n",
    "\t* `fortran` is **not** faster than `C++`\n",
    "\t* It seems pointless to invest either money or time in `matlab`, given the many good options that are available for free.\n",
    "\n",
    "\n",
    "\n"
   ]
  },
  {
   "cell_type": "markdown",
   "metadata": {
    "slideshow": {
     "slide_type": "subslide"
    }
   },
   "source": [
    "\n",
    "## The Fundamental Tradeoff\n",
    "\n",
    "#### Developer Time (Your Time) is Much More Expensive than Computing Time\n",
    "\n",
    "* It may well be that the runtime of a fortran program is one third of the time it takes to run the program in julia, or anything else for that matter.\n",
    "* However, the time it takes to **develop** that program is very likely to be (much) longer in fortran. \n",
    "* Particularly if you want to hold your program to the same quality standards.\n",
    "\n",
    "#### Takeaway\n",
    "\n",
    "* Given my personal experience with many of the above languagues, I think `julia` is a very good tool for economists with non-trivial computational tasks.\n",
    "* This is why I am using it for demonstrations in this course.\n",
    "\n"
   ]
  },
  {
   "cell_type": "markdown",
   "metadata": {
    "slideshow": {
     "slide_type": "subslide"
    }
   },
   "source": [
    "## A Second Fundamental Tradeoff\n",
    "\n",
    "* Regardless of the software you use, there is one main problem with computation.\n",
    "* It concerns **speed vs accuracy**.\n",
    "* You may be able to do something very fast, but at very small accuracy (i.e. with a high numerical margin of error)\n",
    "* On the other hand, you may be able to get a very accurate solution, but it may take you an irrealistic amount of time to get there.\n",
    "* You have to face that tradeoff and decide for yourself what's best."
   ]
  },
  {
   "cell_type": "markdown",
   "metadata": {
    "slideshow": {
     "slide_type": "slide"
    }
   },
   "source": [
    "## A Warning\n",
    "\n",
    "In Donald Knuth's paper \"Structured Programming With GoTo Statements\", he wrote:   \n",
    "\n",
    ">\"Programmers waste enormous amounts of time thinking about, or worrying about, the speed of noncritical parts of their programs, and these attempts at efficiency actually have a strong negative impact when debugging and maintenance are considered. We should forget about small efficiencies, say about 97% of the time: **premature optimization is the root of all evil**. Yet we should not pass up our opportunities in that critical 3%.\"\n",
    "\n",
    "\n",
    "\n"
   ]
  },
  {
   "cell_type": "markdown",
   "metadata": {
    "slideshow": {
     "slide_type": "slide"
    }
   },
   "source": [
    "\n",
    "## Computers\n",
    "\n",
    "* At a high level, computers execute instructions.\n",
    "* Most of the actual *computation* is performed on the Central Processing Unit (CPU). The CPU does \n",
    "\t* Addition\n",
    "\t* substraction\n",
    "\t* multiplication\n",
    "\t* division\n",
    "\t* maybe also (depends on Chipset)\n",
    "\t\t* exponentiation\n",
    "\t\t* logarithm\n",
    "\t\t* trogonometric operations\n",
    "\t* Everything else is a combination of those.\n",
    "\t* The speed of those operations varies a lot. Exponentiation is about 10 times slower than multiplication.\n",
    "\n"
   ]
  },
  {
   "cell_type": "markdown",
   "metadata": {
    "slideshow": {
     "slide_type": "slide"
    }
   },
   "source": [
    "\n",
    "## An Example\n",
    "\n",
    "* Suppose we want to compute\n",
    "\t$$ u(c,l) = \\frac{\\left(c^\\alpha l^{1-\\alpha} \\right)^{1-\\gamma}}{1-\\gamma} $$\n",
    "* Let's take $c=1.1,l=0.8$ and compute this."
   ]
  },
  {
   "cell_type": "code",
   "execution_count": 1,
   "metadata": {
    "attributes": {
     "classes": [
      "julia"
     ],
     "id": ""
    },
    "collapsed": false,
    "slideshow": {
     "slide_type": "subslide"
    }
   },
   "outputs": [
    {
     "ename": "SyntaxError",
     "evalue": "can't assign to function call (<ipython-input-1-f3f376ba2ccf>, line 4)",
     "output_type": "error",
     "traceback": [
      "\u001b[0;36m  File \u001b[0;32m\"<ipython-input-1-f3f376ba2ccf>\"\u001b[0;36m, line \u001b[0;32m4\u001b[0m\n\u001b[0;31m    u(c,l) = ((c^alpha * l^(1-alpha))^(1-gamma)) / (1-gamma)\u001b[0m\n\u001b[0;31mSyntaxError\u001b[0m\u001b[0;31m:\u001b[0m can't assign to function call\n"
     ]
    }
   ],
   "source": [
    "alpha = 0.7\n",
    "gamma = 2.1\n",
    "# straighforward approach\n",
    "u(c,l) = ((c^alpha * l^(1-alpha))^(1-gamma)) / (1-gamma)"
   ]
  },
  {
   "cell_type": "markdown",
   "metadata": {
    "slideshow": {
     "slide_type": "subslide"
    }
   },
   "source": [
    "\n",
    "\n",
    "## more sophisticated approach\n",
    "\n",
    "* Note that $x^\\alpha = \\exp(\\alpha \\log(x))$.\n",
    "* (particularly non-integer) exponentiation is expensive. let's see if we can do better:"
   ]
  },
  {
   "cell_type": "code",
   "execution_count": null,
   "metadata": {
    "attributes": {
     "classes": [
      "julia"
     ],
     "id": ""
    },
    "collapsed": true,
    "slideshow": {
     "slide_type": "subslide"
    }
   },
   "outputs": [],
   "source": [
    "u2(c,l)      = exp( alpha*(1-gamma) * log(c) + (1-alpha)*(1-gamma) * log(l) )/(1-gamma)\n",
    "# benchmark\n",
    "# 1) same result?\n",
    "using Base.Test\n",
    "@test_approx_eq u(1.1,0.8) u2(1.1,0.8)\n",
    "# 2) timing?\n",
    "n = 1e7 \t# get a reasonable sample size\n",
    "t1 = @elapsed for i in 1:n u(1.1,0.8) end\n",
    "t2 = @elapsed for i in 1:n u2(1.1,0.8) end\n",
    "println(\"u1 takes $(round(t1/t2,2)) times longer than u2\")"
   ]
  },
  {
   "cell_type": "markdown",
   "metadata": {
    "slideshow": {
     "slide_type": "slide"
    }
   },
   "source": [
    "----------------\n",
    "\n",
    "# Some Numerical Concepts and `Julia`\n",
    "\n",
    "* Machine epsilon: The smallest number that your computer can represent, type `eps()`.\n",
    "* Infinity: A number greater than all representable numbers on your computer. [Obeys some arithmethmic rules](http://docs.julialang.org/en/release-0.4/manual/integers-and-floating-point-numbers/?highlight=infinity#special-floating-point-values)\n",
    "\t* Overflow: If you perform an operation where the result is greater than the largest representable number.\n",
    "\t* Underflow: You take two (very small) representable numbers, but the result is smaller than `eps()`. \n",
    "\t* In Julia, you are wrapped around the end of your representable space:\n",
    "\t```julia\n",
    "\tx = typemax(Int64)\n",
    "\tx + 1\n",
    "\t```\n",
    "* Integers and Floating Point Numbers.\n",
    "* Single and Double Precision.\n",
    "* In Julia, all of these are different [*numeric primitive types (head over to julia manual for a second)*](http://docs.julialang.org/en/release-0.4/manual/integers-and-floating-point-numbers/).\n",
    "* Julia also supports *Arbitrary Precision Arithmetic*. Thus, overflow shouldn't become an issue anymore.\n",
    "* See min and max for different types:"
   ]
  },
  {
   "cell_type": "code",
   "execution_count": null,
   "metadata": {
    "attributes": {
     "classes": [
      "{julia"
     ],
     "id": ""
    },
    "collapsed": true,
    "slideshow": {
     "slide_type": "subslide"
    }
   },
   "outputs": [],
   "source": [
    "for T in [Int8,Int16,Int32,Int64,Int128,UInt8,UInt16,UInt32,\n",
    "\t\t  UInt64,UInt128,Float32,Float64]\n",
    "         println(\"$(lpad(T,7)): [$(typemin(T)),$(typemax(T))]\")\n",
    "end"
   ]
  },
  {
   "cell_type": "markdown",
   "metadata": {
    "slideshow": {
     "slide_type": "slide"
    }
   },
   "source": [
    "\n",
    "## Interacting with the `Julia REPL`\n",
    "\n",
    "* REPL?\n",
    "* different modes.\n",
    "* incremental search with `CTRL r`\n",
    "* documented in the [manual](http://docs.julialang.org/en/release-0.5/manual/interacting-with-julia)\n",
    "\n",
    "\n"
   ]
  },
  {
   "cell_type": "markdown",
   "metadata": {
    "slideshow": {
     "slide_type": "slide"
    }
   },
   "source": [
    "\n",
    "## `Julia` Primer: What is a `module`?\n",
    "\n",
    "* A separate `namespace`: variable names inside a module are not visible from outside, unless exported.\n",
    "* If you use somebody else's code that contains the object `model`, and you have code that also defines `model`, you have a name conflict.\n",
    "* Using modules avoids this conflict.\n",
    "* Julia packages are provided as `module`s. \n",
    "* You should adapt `module`s as the best workflow practice with julia.\n",
    "\n"
   ]
  },
  {
   "cell_type": "markdown",
   "metadata": {
    "slideshow": {
     "slide_type": "slide"
    }
   },
   "source": [
    "## Modules TODO: Example.jl"
   ]
  },
  {
   "cell_type": "markdown",
   "metadata": {
    "slideshow": {
     "slide_type": "slide"
    }
   },
   "source": [
    "----------------\n",
    "\n",
    "# `Julia` Primer: Types\n",
    "\n",
    "* Types are at the core of what makes julia a great language. \n",
    "* *Everything* in julia is represented as a datatype. \n",
    "* Remember the different numeric *types* from before? Those are types.\n",
    "* The [manual](http://docs.julialang.org/en/release-0.4/manual/types/), as usual, is very informative on this.\n",
    "* From the [wikibook on julia](https://en.wikibooks.org/wiki/Introducing_Julia/Types), here is a representation of the numeric type graph:\n",
    "\n",
    "![](https://upload.wikimedia.org/wikipedia/commons/4/40/Type-hierarchy-for-julia-numbers.png)\n",
    "\n"
   ]
  },
  {
   "cell_type": "markdown",
   "metadata": {
    "slideshow": {
     "slide_type": "slide"
    }
   },
   "source": [
    "## `Julia` Primer: Custom Types\n",
    "\n",
    "* The great thing is that you can create you own types. \n",
    "* Going with the example from the wikibook, we could have types `Jaguar` and `Pussycat` as being subtypes of `feline`:\n",
    "\n",
    "```julia\n",
    "abstract Feline\n",
    "type Jaguar <: Feline\n",
    "\tweight::Float64\n",
    "\tsound::AbstractString\n",
    "end\n",
    "type Pussycat <: Feline\n",
    "\tweight::Float64\n",
    "\tsound::AbstractString\n",
    "end\n",
    "```\n"
   ]
  },
  {
   "cell_type": "markdown",
   "metadata": {
    "slideshow": {
     "slide_type": "subslide"
    }
   },
   "source": [
    "\n",
    "* This means both jaguar and pusscat are subtypes of `Feline`, \n",
    "* They have common fields `weight` and `sound`.\n",
    "* but there could be different functions. We call function specific to a type 'methods'\n",
    "\n",
    "```julia\n",
    "function do_your_thing(j::Jaguar)\n",
    "\tprintln(j.sound)\n",
    "\tprintln(\"I am going to throw my entire $(j.weight) kg at you, I'll catch, kill and eat you!\")\n",
    "\tprintln(\"I am a $(typeof(j))!!!!\")\n",
    "end\n",
    "function do_your_thing(c::Pussycat)\n",
    "\tprintln(c.sound)\n",
    "\tprintln(\"I should watch my line, $(c.weight) is enough for a $(typeof(c))\")\n",
    "\tprintln(c.sound)\n",
    "end\n",
    "```"
   ]
  },
  {
   "cell_type": "markdown",
   "metadata": {
    "slideshow": {
     "slide_type": "slide"
    }
   },
   "source": [
    "\n",
    "## Julia Primer: Multiple Dispatch\n",
    "\n",
    "* You have just learned `multiple dispatch`. The same function name dispatches to different functions, depending on the input argument type.\n",
    "* Add all of the above code into the module `Example`\n",
    "* Add Jaguar, Pussycat, and `do_your_thing` to `export` and save the file.\n"
   ]
  },
  {
   "cell_type": "code",
   "execution_count": null,
   "metadata": {
    "collapsed": true,
    "slideshow": {
     "slide_type": "subslide"
    }
   },
   "outputs": [],
   "source": [
    "# types\n",
    "abstract Feline\n",
    "type Jaguar <: Feline\n",
    "\tweight::Float64\n",
    "\tsound::AbstractString\n",
    "end\n",
    "type Pussycat <: Feline\n",
    "\tweight::Float64\n",
    "\tsound::AbstractString\n",
    "end\n",
    "\n",
    "# methods\n",
    "hello(who::AbstractString) = \"Hello, $who\"\n",
    "domath(x::Number) = (x + 5)\n",
    "\n",
    "\"\"\"\n",
    "makes a jaguar do their thing. \n",
    "\"\"\"\n",
    "function do_your_thing(j::Jaguar)\n",
    "\tprintln(j.sound)\n",
    "\tprintln(\"I am going to throw my entire $(j.weight) kg at you, I'll catch, kill and eat you!\")\n",
    "\tprintln(\"I am a $(typeof(j))!!!!\")\n",
    "end\n",
    "\n",
    "\"\"\"\n",
    "makes a pussycat do their thing. \n",
    "\"\"\"\n",
    "function do_your_thing(c::Pussycat)\n",
    "\tprintln(c.sound)\n",
    "\tprintln(\"I should watch my weight, $(c.weight) is enough for a $(typeof(c))\")\n",
    "\tprintln(c.sound)\n",
    "end\n"
   ]
  },
  {
   "cell_type": "code",
   "execution_count": null,
   "metadata": {
    "attributes": {
     "classes": [
      "julia"
     ],
     "id": ""
    },
    "collapsed": true,
    "slideshow": {
     "slide_type": "subslide"
    }
   },
   "outputs": [],
   "source": [
    "using Example\n",
    "j = Jaguar(130.1,\"roaaarrrrrrr\")\n",
    "c = Pussycat(9.8,\"miauuu\")"
   ]
  },
  {
   "cell_type": "markdown",
   "metadata": {
    "attributes": {
     "classes": [
      "julia"
     ],
     "id": ""
    },
    "collapsed": true,
    "slideshow": {
     "slide_type": "subslide"
    }
   },
   "source": [
    "... and make them `do_their_thing`:\n",
    "\n",
    "```julia\n",
    "do_your_thing(j)\n",
    "do_your_thing(c)\n",
    "```"
   ]
  },
  {
   "cell_type": "markdown",
   "metadata": {
    "slideshow": {
     "slide_type": "slide"
    }
   },
   "source": [
    "## Julia Primer: Important performance lesson - Type Stability\n",
    "\n",
    "* If you don't declare types, julia will try to infer them for you.\n",
    "* DANGER: don't change types along the way. \n",
    "\t* julia optimizes your code for a specific type configuration.\n",
    "\t* it's not the same CPU operation to add two `Int`s and two `Float`s. The difference matters.\n",
    "* Example"
   ]
  },
  {
   "cell_type": "code",
   "execution_count": null,
   "metadata": {
    "attributes": {
     "classes": [
      "julia"
     ],
     "id": ""
    },
    "collapsed": true,
    "slideshow": {
     "slide_type": "subslide"
    }
   },
   "outputs": [],
   "source": [
    "function t1(n)\n",
    "    s  = 0  # typeof(s) = Int\n",
    "    for i in 1:n\n",
    "        s += s/i\n",
    "    end\n",
    "end\n",
    "function t2(n)\n",
    "    s  = 0.0   # typeof(s) = Float64\n",
    "    for i in 1:n\n",
    "        s += s/i\n",
    "    end\n",
    "end\n",
    "@time t1(10000000)\n",
    "@time t2(10000000)"
   ]
  },
  {
   "cell_type": "markdown",
   "metadata": {
    "slideshow": {
     "slide_type": "slide"
    }
   },
   "source": [
    "## Unit Testing and Code Quality\n",
    "\n",
    "\n",
    "<div class=\"center\" style=\"width: auto; margin-left: auto; margin-right: auto;\"> ![](http://www.phdcomics.com/comics/archive/phd033114s.gif) </div>"
   ]
  },
  {
   "cell_type": "markdown",
   "metadata": {
    "slideshow": {
     "slide_type": "slide"
    }
   },
   "source": [
    "## What is Unit Testing? Why should you test you code?\n",
    "\n",
    "* Bugs are very hard to find just by *looking* at your code.\n",
    "* Bugs hide.\n",
    "* From this very instructive [MIT software construction class](http://web.mit.edu/6.005/www/fa15/classes/03-testing/#unit_testing_and_stubs):\n",
    "\n",
    "> Even with the best validation, it’s very hard to achieve perfect quality in software. Here are some typical residual defect rates (bugs left over after the software has shipped) per kloc (one thousand lines of source code):\n",
    "  * 1 - 10 defects/kloc: Typical industry software.\n",
    "  * 0.1 - 1 defects/kloc: High-quality validation. The Java libraries might achieve this level of correctness.\n",
    "  * 0.01 - 0.1 defects/kloc: The very best, safety-critical validation. NASA and companies like Praxis can achieve this level. This can be discouraging for large systems. For example, if you have shipped a million lines of typical industry source code (1 defect/kloc), it means you missed 1000 bugs!\n",
    "\n"
   ]
  },
  {
   "cell_type": "markdown",
   "metadata": {
    "slideshow": {
     "slide_type": "slide"
    }
   },
   "source": [
    "## Unit Testing in Science\n",
    "\n",
    "* One widely-used way to prevent your code from having too many errors, is to continuously test it.\n",
    "* This issue is widely neglected in Economics as well as other sciences.\n",
    "\t* If the resulting graph looks right, the code should be alright, shouldn't it?\n",
    "\t* Well, should it?\n",
    "* It is regrettable that so little effort is put into verifying the proper functioning of scientific code. \n",
    "\t* Referees in general don't have access to the computing code for paper that is submitted to a journal for publication.\n",
    "\t* How should they be able to tell whether what they see in black on white on paper is the result of the actual computation that was proposed, rather than the result of chance (a.k.a. a bug)?\n",
    "\t\t* Increasingly papers do post the source code *after* publication.\n",
    "\t* The scientific method is based on the principle of **reproduciblity** of results. \n",
    "\t\t* Notice that having something reproducible is only a first step, since you can reproduce with your buggy code the same nice graph. \n",
    "\t\t* But from where we are right now, it's an important first step.\n",
    "\t* This is an issue that is detrimental to credibility of Economics, and Science, as a whole. \n",
    "* Extensively testing your code will guard you against this."
   ]
  },
  {
   "cell_type": "markdown",
   "metadata": {
    "slideshow": {
     "slide_type": "slide"
    }
   },
   "source": [
    "## Best Practice\n",
    "\n",
    "* You want to be in **maximum control** over your code at all times:\n",
    "\t* You want to be **as sure as possible** that a certain piece of code is doing, what it actually meant to do.\n",
    "\t* This sounds trivial (and it is), yet very few people engage in unit testing.\n",
    "* Things are slowly changing. See [http://www.runmycode.org](http://www.runmycode.org) for example.\n",
    "* **You** are the generation that is going to change this. Do it.\n",
    "* Let's look at some real world Examples.\n",
    "\n"
   ]
  },
  {
   "cell_type": "markdown",
   "metadata": {
    "slideshow": {
     "slide_type": "slide"
    }
   },
   "source": [
    "## Ariane 5 blows up because of a bug\n",
    "\n",
    "> It took the European Space Agency 10 years and $$7 billion to produce Ariane 5, a giant rocket capable of hurling a pair of three-ton satellites into orbit with each launch and intended to give Europe overwhelming supremacy in the commercial space business. \n",
    "All it took to explode that rocket less than a minute into its maiden voyage last June, scattering fiery rubble across the mangrove swamps of French Guiana, was a small computer program trying to stuff a 64-bit number into a 16-bit space. This shutdown occurred 36.7 seconds after launch, when the guidance system's own computer tried to convert one piece of data -- the sideways velocity of the rocket -- from a 64-bit format to a 16-bit format. \n",
    "**The number was too big, and an overflow error resulted**. When the guidance system shut down, it passed control to an identical, redundant unit, which was there to provide backup in case of just such a failure. But the second unit had failed in the identical manner a few milliseconds before. And why not? It was running the same software."
   ]
  },
  {
   "cell_type": "markdown",
   "metadata": {
    "slideshow": {
     "slide_type": "subslide"
    }
   },
   "source": [
    "## NASA Mars Orbiter crashes because of a bug\n",
    "\n",
    "> For nine months, the Mars Climate Orbiter was speeding through space and speaking to NASA in **metric**. But the engineers on the ground were replying **in non-metric English**. \n",
    "It was a mathematical mismatch that was not caught until after the $$125-million spacecraft, a key part of NASA's Mars exploration program, was sent crashing too low and too fast into the Martian atmosphere. The craft has not been heard from since.\n",
    "Noel Henners of Lockheed Martin Astronautics, the prime contractor for the Mars craft, said at a news conference it was up to his company's engineers to assure the metric systems used in one computer program were compatible with the English system used in another program. The simple conversion check was not done, he said.\n",
    "\n"
   ]
  },
  {
   "cell_type": "markdown",
   "metadata": {
    "slideshow": {
     "slide_type": "subslide"
    }
   },
   "source": [
    "## LA Airport Air Traffic Control shuts down because of a bug\n",
    "\n",
    ">(IEEE Spectrum) -- It was an air traffic controller's worst nightmare. Without warning, on Tuesday, 14 September, at about 5 p.m. Pacific daylight time, air traffic controllers lost voice contact with 400 airplanes they were tracking over the southwestern United States. Planes started to head toward one another, something that occurs routinely under careful control of the air traffic controllers, who keep airplanes safely apart. But now the controllers had no way to redirect the planes' courses.\n",
    "The controllers lost contact with the planes when the main voice communications system (VCS) shut down unexpectedly. To make matters worse, a backup system that was supposed to take over in such an event crashed within a minute after it was turned on. The outage disrupted about 800 flights across the country.\n",
    "Inside the control system unit (VCSU) is a countdown timer that ticks off time in milliseconds. The VCSU uses the timer as a pulse to send out periodic queries to the VSCS. It starts out at the highest possible number that the system's server and its software can handle — 232. It's a number just over 4 billion milliseconds. When the counter reaches zero, the system runs out of ticks and can no longer time itself. **So it shuts down**.\n",
    "*Counting down from 232 to zero in milliseconds takes just under 50 days*. The FAA procedure of having a technician reboot the VSCS every 30 days resets the timer to 232 almost three weeks before it runs out of digits.\n",
    "\n"
   ]
  },
  {
   "cell_type": "markdown",
   "metadata": {
    "slideshow": {
     "slide_type": "slide"
    }
   },
   "source": [
    "## Automated Testing\n",
    "\n",
    "* You should try to minimize the effort of writing tests.\n",
    "* Using an automated test suite is very helpful here.\n",
    "* In Julia, we have got `Base.Test` in the Base package, and `FactCheck` as a package.\n",
    "* Let's add some tests to your Example module.\n",
    "* create a folder `test` in `modTest`\n",
    "* inside that folder, open a file `runtests.jl`"
   ]
  },
  {
   "cell_type": "code",
   "execution_count": null,
   "metadata": {
    "attributes": {
     "classes": [
      "julia"
     ],
     "id": ""
    },
    "collapsed": true,
    "slideshow": {
     "slide_type": "subslide"
    }
   },
   "outputs": [],
   "source": [
    "module TestExample\n",
    "\tusing Example\n",
    "\tusing FactCheck\n",
    "\n",
    "\tfacts(\"testing constructors\") do\n",
    "\t\t@fact typeof(Pussycat(9.8,\"miauuu\")) --> Pussycat\n",
    "\t\t@fact typeof(Jaguar(9.8,\"miauuu\")) --> Jaguar\n",
    "\tend\n",
    "\n",
    "\tfacts(\"testing domath\") do\n",
    "\t\t@fact domath(10) --> 15.0\n",
    "\t\t@fact domath(-5) == 0.0 --> true\n",
    "\tend\n",
    "end"
   ]
  },
  {
   "cell_type": "markdown",
   "metadata": {
    "slideshow": {
     "slide_type": "slide"
    }
   },
   "source": [
    "## Automated Testing on Travis\n",
    "\n",
    "* [https://travis-ci.org](https://travis-ci.org) is a continuous integration service.\n",
    "* It runs your test on their machines and notifies you of the result.\n",
    "* Every time you push a commit to github.\n",
    "* If the repository is public on github, the service is for free.\n",
    "* Many julia packages are testing on Travis.\n",
    "* You should look out for that green badge: [![Build Status](https://travis-ci.org/JuliaLang/julia.svg?branch=master)](https://travis-ci.org/JuliaLang/julia)\n",
    "* this is the build status of the julia master branch right now.\n",
    "\n"
   ]
  },
  {
   "cell_type": "markdown",
   "metadata": {
    "slideshow": {
     "slide_type": "slide"
    }
   },
   "source": [
    "## Debugging Julia\n",
    "\n",
    "* tbd\n",
    "\n"
   ]
  },
  {
   "cell_type": "markdown",
   "metadata": {
    "slideshow": {
     "slide_type": "slide"
    }
   },
   "source": [
    "\n",
    "# Plotting with Julia\n",
    "\n",
    "* [http://mth229.github.io/graphing.html](http://mth229.github.io/graphing.html) has a nice intro using the package `Gadfly`\n",
    "* See [quant-econ.net website](http://quant-econ.net/jl/julia_libraries.html#plotting) for good intro to PyPlot plotting."
   ]
  }
 ],
 "metadata": {
  "celltoolbar": "Slideshow",
  "kernelspec": {
   "display_name": "Julia 0.5.0",
   "language": "julia",
   "name": "julia-0.5"
  },
  "language_info": {
   "file_extension": ".jl",
   "mimetype": "application/julia",
   "name": "julia",
   "version": "0.5.0"
  }
 },
 "nbformat": 4,
 "nbformat_minor": 0
}
